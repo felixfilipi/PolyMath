{
  "nbformat": 4,
  "nbformat_minor": 0,
  "metadata": {
    "colab": {
      "name": "graph_prototype.ipynb",
      "provenance": [],
      "collapsed_sections": []
    },
    "kernelspec": {
      "name": "python3",
      "display_name": "Python 3"
    },
    "language_info": {
      "name": "python"
    }
  },
  "cells": [
    {
      "cell_type": "code",
      "source": [
        "#-------------------------------------------------------\n",
        "class dense_mass:\n",
        "  def __init__(self, density = None, v = None):\n",
        "    self.density = density\n",
        "    self.v = v\n",
        "\n",
        "  def calculate(self):\n",
        "    mass_density_res = self.density * self.v\n",
        "    print(f'Using Density formula generate mass = ', mass_density_res)\n",
        "    return mass_density_res\n",
        "\n",
        "#-------------------------------------------------------\n",
        "class Momentum_mass:\n",
        "  def __init__(self, momentum = None, v = None):\n",
        "    self.momentum = momentum\n",
        "    self.v = v\n",
        "\n",
        "  def calculate(self):\n",
        "    mass_momentum_res = self.momentum * self.v\n",
        "    print(f'Using Momentum formula generate mass = ', mass_momentum_res)\n",
        "    return mass_momentum_res\n",
        "\n",
        "#-------------------------------------------------------\n",
        "class Momentum:\n",
        "  def __init__(self, m = None, v = None):\n",
        "    self.m = m\n",
        "    self.v = v\n",
        "\n",
        "  def calculate(self):\n",
        "    momentum_res = self.m * self.v\n",
        "    print(f'Using Momentum formula generate mass = ', momentum_res)\n",
        "    return momentum_res\n",
        "\n",
        "#-------------------------------------------------------\n",
        "class Eins_static_energy():\n",
        "  def __init__(self, m = None, density = None, v = None, momentum = None, c = 1, attr = None):\n",
        "    self.attributes = attr\n",
        "    self.mass = m\n",
        "    self.c = 299792458 * c #m/s\n",
        "    self.m_possibility = [dense_mass(density, v), Momentum_mass(momentum, v)]\n",
        "  \n",
        "  def calculate(self, m, c):\n",
        "    return m * (c ** 2)\n",
        "      \n",
        "  def calc_eins_static_energy(self):\n",
        "    if self.mass == None:\n",
        "      for i, poss in enumerate(self.m_possibility):\n",
        "        if all(hasattr(poss, attr) for attr in self.attributes):\n",
        "          m_res = poss.calculate()\n",
        "          energy_res = self.calculate(m_res, self.c)\n",
        "          return energy_res\n",
        "        else:\n",
        "          continue\n",
        "    else:\n",
        "      return self.calculate(self.mass, self.c)\n",
        "\n",
        "#-----------------------------------------------\n",
        "\n",
        "class Eins_dynamic_energy():\n",
        "  def __init__(self, m = None, density = None, v = None, momentum = None, c = 1, attr = None):\n",
        "    self.attributes = attr\n",
        "    self.mass = m\n",
        "    self.c = 299792458 * c #m/s\n",
        "    self.m_possibility = [dense_mass(density, v), Momentum_mass(momentum, v)]\n",
        "  \n",
        "  def calculate(self, p, c):\n",
        "    return p * (c ** 2)\n",
        "      \n",
        "  def calc_eins_static_energy(self):\n",
        "    if self.mass == None:\n",
        "      for i, poss in enumerate(self.m_possibility):\n",
        "        if all(hasattr(poss, attr) for attr in self.attributes):\n",
        "          m_res = poss.calculate()\n",
        "          energy_res = self.calculate(m_res, self.c)\n",
        "          return energy_res\n",
        "        else:\n",
        "          continue\n",
        "    else:\n",
        "      return self.calculate(self.mass, self.c)"
      ],
      "metadata": {
        "id": "xmDEWN-f510Z"
      },
      "execution_count": 93,
      "outputs": []
    },
    {
      "cell_type": "code",
      "source": [
        "print(\"Einstein Static energy\")\n",
        "print(\"--------------------------------------------------\\n\")\n",
        "print(\"First trial \\n\")\n",
        "print(f\"Your attribute are momentum and velocity using the speed of light, generate =\",Eins_static_energy(density = 40, v = 10, attr = ['density', 'v']).calc_eins_static_energy(), \"energy\")\n",
        "print(\"\\nSecond trial\")\n",
        "print(f\"Your attribute are momentum and velocity using the speed of light, generate =\",Eins_static_energy(momentum = 40, v = 10, attr = ['momentum', 'v']).calc_eins_static_energy(), \"energy\")\n",
        "print(\"\\nThird trial\")\n",
        "print(f\"Your attribute are only mass using the speed of light, generate =\",Eins_static_energy(m = 400, attr = ['m']).calc_eins_static_energy(), \"energy\")"
      ],
      "metadata": {
        "colab": {
          "base_uri": "https://localhost:8080/"
        },
        "id": "eZqzTVYbmBuA",
        "outputId": "b0100bce-4ec9-43ce-d828-598c0c602449"
      },
      "execution_count": 94,
      "outputs": [
        {
          "output_type": "stream",
          "name": "stdout",
          "text": [
            "Einstein Static energy\n",
            "--------------------------------------------------\n",
            "\n",
            "First trial \n",
            "\n",
            "Using Density formula generate mass =  400\n",
            "Your attribute are momentum and velocity using the speed of light, generate = 35950207149472705600 energy\n",
            "\n",
            "Second trial\n",
            "Using Momentum formula generate mass =  400\n",
            "Your attribute are momentum and velocity using the speed of light, generate = 35950207149472705600 energy\n",
            "\n",
            "Third trial\n",
            "Your attribute are only mass using the speed of light, generate = 35950207149472705600 energy\n"
          ]
        }
      ]
    }
  ]
}